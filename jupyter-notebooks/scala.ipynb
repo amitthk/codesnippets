{
 "cells": [
  {
   "cell_type": "code",
   "execution_count": 1,
   "id": "031f3a9c",
   "metadata": {},
   "outputs": [
    {
     "data": {
      "text/plain": [
       "Intitializing Scala interpreter ..."
      ]
     },
     "metadata": {},
     "output_type": "display_data"
    },
    {
     "data": {
      "text/plain": [
       "Spark Web UI available at http://192.168.18.47:4040\n",
       "SparkContext available as 'sc' (version = 2.3.4, master = local[*], app id = local-1674377648504)\n",
       "SparkSession available as 'spark'\n"
      ]
     },
     "metadata": {},
     "output_type": "display_data"
    },
    {
     "data": {
      "text/plain": [
       "res0: org.apache.spark.SparkContext = org.apache.spark.SparkContext@354e33c2\n"
      ]
     },
     "execution_count": 1,
     "metadata": {},
     "output_type": "execute_result"
    }
   ],
   "source": [
    "sc"
   ]
  },
  {
   "cell_type": "code",
   "execution_count": 29,
   "id": "118c5285",
   "metadata": {},
   "outputs": [
    {
     "data": {
      "text/plain": [
       "run_func: (feedfunc: Int => Int, lb: Int, ub: Int)Int\n"
      ]
     },
     "execution_count": 29,
     "metadata": {},
     "output_type": "execute_result"
    }
   ],
   "source": [
    "def run_func(feedfunc: Int=>Int,lb: Int , ub:Int) = {\n",
    "    var total=0\n",
    "    for(item <- lb to ub){\n",
    "        println(\"Item: \"+item + \", Total: \"+total)\n",
    "        total+=feedfunc(item)\n",
    "    }\n",
    "    total\n",
    "}"
   ]
  },
  {
   "cell_type": "code",
   "execution_count": 38,
   "id": "633d0142",
   "metadata": {},
   "outputs": [
    {
     "name": "stdout",
     "output_type": "stream",
     "text": [
      "Item: 1, Total: 0\n",
      "Item: 2, Total: 1\n",
      "Item: 3, Total: 3\n",
      "Item: 4, Total: 6\n",
      "Item: 5, Total: 10\n",
      "Item: 6, Total: 15\n",
      "Item: 7, Total: 21\n",
      "Item: 8, Total: 28\n",
      "Item: 9, Total: 36\n",
      "Item: 10, Total: 45\n",
      "55"
     ]
    },
    {
     "data": {
      "text/plain": [
       "abc: Int = 55\n"
      ]
     },
     "execution_count": 38,
     "metadata": {},
     "output_type": "execute_result"
    }
   ],
   "source": [
    "val abc =run_func((x:Int)=>{x},1,10)\n",
    "print(abc)"
   ]
  },
  {
   "cell_type": "code",
   "execution_count": 39,
   "id": "8f9d2588",
   "metadata": {},
   "outputs": [
    {
     "name": "stdout",
     "output_type": "stream",
     "text": [
      "going lb to ub1\n",
      "going lb to ub2\n",
      "going lb to ub3\n",
      "going lb to ub4\n",
      "going lb to ub5\n",
      "going lb to ub6\n",
      "going lb to ub7\n",
      "going lb to ub8\n",
      "going lb to ub9\n",
      "going lb to ub10\n",
      "385"
     ]
    },
    {
     "data": {
      "text/plain": [
       "efg: Int = 385\n"
      ]
     },
     "execution_count": 39,
     "metadata": {},
     "output_type": "execute_result"
    }
   ],
   "source": [
    "val efg =run_func((x:Int)=>x*x,1,10)\n",
    "print(efg)"
   ]
  },
  {
   "cell_type": "code",
   "execution_count": null,
   "id": "63ae385b",
   "metadata": {},
   "outputs": [],
   "source": []
  }
 ],
 "metadata": {
  "kernelspec": {
   "display_name": "spylon-kernel",
   "language": "scala",
   "name": "spylon-kernel"
  },
  "language_info": {
   "codemirror_mode": "text/x-scala",
   "file_extension": ".scala",
   "help_links": [
    {
     "text": "MetaKernel Magics",
     "url": "https://metakernel.readthedocs.io/en/latest/source/README.html"
    }
   ],
   "mimetype": "text/x-scala",
   "name": "scala",
   "pygments_lexer": "scala",
   "version": "0.4.1"
  }
 },
 "nbformat": 4,
 "nbformat_minor": 5
}
