{
 "cells": [
  {
   "cell_type": "code",
   "execution_count": 8,
   "id": "031f3a9c",
   "metadata": {},
   "outputs": [
    {
     "data": {
      "text/plain": [
       "res0: org.apache.spark.SparkContext = org.apache.spark.SparkContext@6fb3b009\n"
      ]
     },
     "execution_count": 8,
     "metadata": {},
     "output_type": "execute_result"
    }
   ],
   "source": [
    "sc"
   ]
  },
  {
   "cell_type": "code",
   "execution_count": 9,
   "id": "118c5285",
   "metadata": {},
   "outputs": [
    {
     "data": {
      "text/plain": [
       "run_func: (feedfunc: Int => Int, lb: Int, ub: Int)Int\n"
      ]
     },
     "execution_count": 9,
     "metadata": {},
     "output_type": "execute_result"
    }
   ],
   "source": [
    "def run_func(feedfunc: Int=>Int,lb: Int , ub:Int) = {\n",
    "    var total=0\n",
    "    for(item <- lb to ub){\n",
    "        println(\"Item: \"+item + \", Total: \"+total)\n",
    "        total+=feedfunc(item)\n",
    "    }\n",
    "    total\n",
    "}"
   ]
  },
  {
   "cell_type": "code",
   "execution_count": 10,
   "id": "633d0142",
   "metadata": {},
   "outputs": [
    {
     "name": "stdout",
     "output_type": "stream",
     "text": [
      "Item: 1, Total: 0\n",
      "Item: 2, Total: 1\n",
      "Item: 3, Total: 3\n",
      "Item: 4, Total: 6\n",
      "Item: 5, Total: 10\n",
      "Item: 6, Total: 15\n",
      "Item: 7, Total: 21\n",
      "Item: 8, Total: 28\n",
      "Item: 9, Total: 36\n",
      "Item: 10, Total: 45\n"
     ]
    },
    {
     "data": {
      "text/plain": [
       "abc: Int = 55\n"
      ]
     },
     "execution_count": 10,
     "metadata": {},
     "output_type": "execute_result"
    }
   ],
   "source": [
    "val abc =run_func((x:Int)=>{x},1,10)"
   ]
  },
  {
   "cell_type": "code",
   "execution_count": 11,
   "id": "8f9d2588",
   "metadata": {},
   "outputs": [
    {
     "name": "stdout",
     "output_type": "stream",
     "text": [
      "Item: 1, Total: 0\n",
      "Item: 2, Total: 1\n",
      "Item: 3, Total: 5\n",
      "Item: 4, Total: 14\n",
      "Item: 5, Total: 30\n",
      "Item: 6, Total: 55\n",
      "Item: 7, Total: 91\n",
      "Item: 8, Total: 140\n",
      "Item: 9, Total: 204\n",
      "Item: 10, Total: 285\n"
     ]
    },
    {
     "data": {
      "text/plain": [
       "efg: Int = 385\n"
      ]
     },
     "execution_count": 11,
     "metadata": {},
     "output_type": "execute_result"
    }
   ],
   "source": [
    "val efg =run_func((x:Int)=>x*x,1,10)"
   ]
  }
 ],
 "metadata": {
  "kernelspec": {
   "display_name": "spylon-kernel",
   "language": "scala",
   "name": "spylon-kernel"
  },
  "language_info": {
   "codemirror_mode": "text/x-scala",
   "file_extension": ".scala",
   "help_links": [
    {
     "text": "MetaKernel Magics",
     "url": "https://metakernel.readthedocs.io/en/latest/source/README.html"
    }
   ],
   "mimetype": "text/x-scala",
   "name": "scala",
   "pygments_lexer": "scala",
   "version": "0.4.1"
  }
 },
 "nbformat": 4,
 "nbformat_minor": 5
}
