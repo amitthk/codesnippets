{
 "cells": [
  {
   "cell_type": "code",
   "execution_count": 37,
   "id": "772667de",
   "metadata": {},
   "outputs": [],
   "source": [
    "from dotenv import load_dotenv;\n",
    "load_dotenv()\n",
    "import os\n",
    "import boto3\n",
    "import findspark\n",
    "findspark.init() \n",
    "from pyspark.sql.types import StructType, StructField, StringType, LongType\n",
    "from pyspark.sql import SparkSession\n",
    "import pyspark\n",
    "from pyspark import SQLContext\n",
    "# Setup the Configuration\n",
    "conf = pyspark.SparkConf()\n",
    "spark_context = SparkSession.builder.config(conf=conf).getOrCreate()\n"
   ]
  },
  {
   "cell_type": "code",
   "execution_count": 38,
   "id": "4f3e6dcc",
   "metadata": {},
   "outputs": [],
   "source": [
    "key = os.environ[\"AWS_ACCESS_KEY\"]\n",
    "secret = os.environ[\"AWS_SECRET_ACCESS_KEY\"]"
   ]
  },
  {
   "cell_type": "code",
   "execution_count": 40,
   "id": "4dcc925a",
   "metadata": {},
   "outputs": [],
   "source": [
    "s3 = boto3.client('s3')\n",
    "objects=s3.list_objects(Bucket=\"atksv.mywire.org\")\n",
    "\n",
    "schema = StructType([\n",
    "    StructField(\"Key\", StringType()),\n",
    "    StructField(\"Size\", LongType())\n",
    "])\n",
    "filtered=list(map(lambda itm:[itm['Key'],itm['Size']],objects['Contents']))\n",
    "df = spark_context.createDataFrame(filtered, schema)"
   ]
  },
  {
   "cell_type": "code",
   "execution_count": 46,
   "id": "cf3481e1",
   "metadata": {},
   "outputs": [
    {
     "data": {
      "text/plain": [
       "222"
      ]
     },
     "execution_count": 46,
     "metadata": {},
     "output_type": "execute_result"
    }
   ],
   "source": [
    "df.count()"
   ]
  },
  {
   "cell_type": "code",
   "execution_count": 47,
   "id": "b073d890",
   "metadata": {},
   "outputs": [],
   "source": [
    "df.coalesce(1).write.csv('./output.csv',header=True)"
   ]
  }
 ],
 "metadata": {
  "kernelspec": {
   "display_name": "Python 3 (ipykernel)",
   "language": "python",
   "name": "python3"
  },
  "language_info": {
   "codemirror_mode": {
    "name": "ipython",
    "version": 3
   },
   "file_extension": ".py",
   "mimetype": "text/x-python",
   "name": "python",
   "nbconvert_exporter": "python",
   "pygments_lexer": "ipython3",
   "version": "3.7.4"
  }
 },
 "nbformat": 4,
 "nbformat_minor": 5
}
