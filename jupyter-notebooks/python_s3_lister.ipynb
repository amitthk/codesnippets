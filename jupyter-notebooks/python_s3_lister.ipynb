{
 "cells": [
  {
   "cell_type": "code",
   "execution_count": 11,
   "id": "772667de",
   "metadata": {},
   "outputs": [],
   "source": [
    "from dotenv import load_dotenv;\n",
    "load_dotenv()\n",
    "import os\n",
    "import boto3\n",
    "import findspark\n",
    "findspark.init() \n",
    "from pyspark.sql.types import StructType, StructField, StringType, DoubleType\n",
    "from pyspark.sql import SparkSession\n",
    "import pyspark\n",
    "from pyspark import SQLContext\n",
    "# Setup the Configuration\n",
    "conf = pyspark.SparkConf()\n",
    "spark_context = SparkSession.builder.config(conf=conf).getOrCreate()\n"
   ]
  },
  {
   "cell_type": "code",
   "execution_count": 12,
   "id": "4f3e6dcc",
   "metadata": {},
   "outputs": [],
   "source": [
    "key = os.environ[\"AWS_ACCESS_KEY\"]\n",
    "secret = os.environ[\"AWS_SECRET_ACCESS_KEY\"]"
   ]
  },
  {
   "cell_type": "code",
   "execution_count": 18,
   "id": "4dcc925a",
   "metadata": {},
   "outputs": [],
   "source": [
    "s3 = boto3.client('s3')\n",
    "objects=s3.list_objects(Bucket=\"atksv.mywire.org\")\n",
    "\n",
    "schema = StructType([\n",
    "    StructField(\"Key\", StringType()),\n",
    "    StructField(\"Size\", DoubleType())\n",
    "])\n",
    "filtered=list(map(lambda itm:[itm['Key'],float(str(itm['Size']))],objects['Contents']))\n",
    "df = spark_context.createDataFrame(filtered, schema)"
   ]
  },
  {
   "cell_type": "code",
   "execution_count": 20,
   "id": "cf3481e1",
   "metadata": {},
   "outputs": [
    {
     "data": {
      "text/plain": [
       "222"
      ]
     },
     "execution_count": 20,
     "metadata": {},
     "output_type": "execute_result"
    }
   ],
   "source": [
    "df.count()"
   ]
  },
  {
   "cell_type": "code",
   "execution_count": 21,
   "id": "51c35778",
   "metadata": {},
   "outputs": [
    {
     "name": "stdout",
     "output_type": "stream",
     "text": [
      "== Physical Plan ==\n",
      "Scan ExistingRDD[Key#9,Size#10]\n"
     ]
    }
   ],
   "source": [
    "df.explain()"
   ]
  },
  {
   "cell_type": "code",
   "execution_count": null,
   "id": "0b5bd7c2",
   "metadata": {},
   "outputs": [],
   "source": []
  }
 ],
 "metadata": {
  "kernelspec": {
   "display_name": "Python 3 (ipykernel)",
   "language": "python",
   "name": "python3"
  },
  "language_info": {
   "codemirror_mode": {
    "name": "ipython",
    "version": 3
   },
   "file_extension": ".py",
   "mimetype": "text/x-python",
   "name": "python",
   "nbconvert_exporter": "python",
   "pygments_lexer": "ipython3",
   "version": "3.7.4"
  }
 },
 "nbformat": 4,
 "nbformat_minor": 5
}
