{
 "cells": [
  {
   "cell_type": "code",
   "execution_count": 75,
   "id": "b8b27f19",
   "metadata": {},
   "outputs": [],
   "source": [
    "import yahoo_fin.stock_info as si\n",
    "import pandas as pd\n",
    "\n",
    "import requests\n",
    "from bs4 import BeautifulSoup\n"
   ]
  },
  {
   "cell_type": "code",
   "execution_count": 76,
   "id": "d40dc165",
   "metadata": {},
   "outputs": [],
   "source": [
    "# get list of stock tickers\n",
    "stock_list = [\"051900.KS\",\"018250.KS\",\"090430.KS\",\"018250.KS\",\"4911.T\",\"PG\",\"OR.VI\",\"ULVR.L\"]\n",
    " \n",
    "\n",
    "# Get data in the current column for each stock's valuation table\n",
    "stock_stats = {}\n",
    "for ticker in stock_list:\n",
    "    temp = si.get_stats_valuation(ticker)\n",
    "    temp = temp.iloc[:,:2]\n",
    "    temp.columns = [\"Attribute\", \"Recent\"]\n",
    " \n",
    "    stock_stats[ticker] = temp\n",
    "\n",
    "# combine all the stats valuation tables into a single data frame\n",
    "if stock_stats is not None:\n",
    "    combined_stats = pd.concat(stock_stats)\n",
    "    combined_stats = combined_stats.reset_index()\n",
    " \n",
    "del combined_stats[\"level_1\"]\n",
    " \n",
    "# update column names\n",
    "combined_stats.columns = [\"Ticker\", \"Attribute\", \"Recent\"]\n",
    "combined_stats.to_csv('output.csv')"
   ]
  },
  {
   "cell_type": "markdown",
   "id": "06a832a5",
   "metadata": {},
   "source": []
  },
  {
   "cell_type": "code",
   "execution_count": 77,
   "id": "81b4f5eb",
   "metadata": {},
   "outputs": [],
   "source": [
    "def google_search(search_term):\n",
    "    headers = {'User-Agent': 'Mozilla/5.0 (Windows NT 10.0; Win64; x64) AppleWebKit/537.36 (KHTML, like Gecko) Chrome/81.0.4044.129 Safari/537.36'}\n",
    "    try:\n",
    "        url = 'https://google.com/search?q=' + str(search_term)\n",
    "        request_result=requests.get(url, headers=headers)\n",
    "        soup = BeautifulSoup(request_result.text,\"lxml\")\n",
    "        mydivs = soup.find(\"div\", {\"class\": \"ikb4Bb\"}).get_text()\n",
    "        print(mydivs)\n",
    "    except:\n",
    "        print(\"N/A\")"
   ]
  },
  {
   "cell_type": "code",
   "execution_count": 78,
   "id": "7e130bf9",
   "metadata": {},
   "outputs": [
    {
     "name": "stdout",
     "output_type": "stream",
     "text": [
      "141,466,879,500.00 United States Dollar\n"
     ]
    }
   ],
   "source": [
    "google_search('131.91 billion EUR to USD')"
   ]
  }
 ],
 "metadata": {
  "kernelspec": {
   "display_name": "Python 3 (ipykernel)",
   "language": "python",
   "name": "python3"
  },
  "language_info": {
   "codemirror_mode": {
    "name": "ipython",
    "version": 3
   },
   "file_extension": ".py",
   "mimetype": "text/x-python",
   "name": "python",
   "nbconvert_exporter": "python",
   "pygments_lexer": "ipython3",
   "version": "3.10.11"
  }
 },
 "nbformat": 4,
 "nbformat_minor": 5
}
