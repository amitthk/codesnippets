{
 "cells": [
  {
   "cell_type": "code",
   "execution_count": 1,
   "id": "d0ee2eb8",
   "metadata": {},
   "outputs": [
    {
     "data": {
      "text/plain": [
       "Intitializing Scala interpreter ..."
      ]
     },
     "metadata": {},
     "output_type": "display_data"
    },
    {
     "data": {
      "text/plain": [
       "Spark Web UI available at http://192.168.18.47:4040\n",
       "SparkContext available as 'sc' (version = 2.3.4, master = local[*], app id = local-1674377648504)\n",
       "SparkSession available as 'spark'\n"
      ]
     },
     "metadata": {},
     "output_type": "display_data"
    },
    {
     "data": {
      "text/plain": [
       "res0: org.apache.spark.SparkContext = org.apache.spark.SparkContext@354e33c2\n"
      ]
     },
     "execution_count": 1,
     "metadata": {},
     "output_type": "execute_result"
    }
   ],
   "source": [
    "sc"
   ]
  },
  {
   "cell_type": "code",
   "execution_count": 29,
   "id": "00c0cc8d",
   "metadata": {},
   "outputs": [
    {
     "data": {
      "text/plain": [
       "run_func: (feedfunc: Int => Int, lb: Int, ub: Int)Int\n"
      ]
     },
     "execution_count": 29,
     "metadata": {},
     "output_type": "execute_result"
    }
   ],
   "source": [
    "def run_func(feedfunc: Int=>Int,lb: Int , ub:Int) = {\n",
    "    var total=0\n",
    "    for(item <- lb to ub){\n",
    "        println(\"Item: \"+item + \", Total: \"+total)\n",
    "        total+=feedfunc(item)\n",
    "    }\n",
    "    total\n",
    "}"
   ]
  },
  {
   "cell_type": "code",
   "execution_count": 40,
   "id": "f8b864e1",
   "metadata": {},
   "outputs": [
    {
     "name": "stdout",
     "output_type": "stream",
     "text": [
      "Item: 1, Total: 0\n",
      "Item: 2, Total: 1\n",
      "Item: 3, Total: 3\n",
      "Item: 4, Total: 6\n",
      "Item: 5, Total: 10\n",
      "Item: 6, Total: 15\n",
      "Item: 7, Total: 21\n",
      "Item: 8, Total: 28\n",
      "Item: 9, Total: 36\n",
      "Item: 10, Total: 45\n",
      "55"
     ]
    },
    {
     "data": {
      "text/plain": [
       "cumulativesum: Int = 55\n"
      ]
     },
     "execution_count": 40,
     "metadata": {},
     "output_type": "execute_result"
    }
   ],
   "source": [
    "val cumulativesum =run_func((x:Int)=>{x},1,10)\n",
    "print(cumulativesum)"
   ]
  },
  {
   "cell_type": "code",
   "execution_count": 41,
   "id": "466857d4",
   "metadata": {},
   "outputs": [
    {
     "name": "stdout",
     "output_type": "stream",
     "text": [
      "Item: 1, Total: 0\n",
      "Item: 2, Total: 1\n",
      "Item: 3, Total: 5\n",
      "Item: 4, Total: 14\n",
      "Item: 5, Total: 30\n",
      "Item: 6, Total: 55\n",
      "Item: 7, Total: 91\n",
      "Item: 8, Total: 140\n",
      "Item: 9, Total: 204\n",
      "Item: 10, Total: 285\n",
      "385"
     ]
    },
    {
     "data": {
      "text/plain": [
       "cumulative_square: Int = 385\n"
      ]
     },
     "execution_count": 41,
     "metadata": {},
     "output_type": "execute_result"
    }
   ],
   "source": [
    "val cumulative_square =run_func((x:Int)=>x*x,1,10)\n",
    "print(cumulative_square)"
   ]
  },
  {
   "cell_type": "code",
   "execution_count": 43,
   "id": "45487445",
   "metadata": {},
   "outputs": [
    {
     "name": "stdout",
     "output_type": "stream",
     "text": [
      "Item: 1, Total: 0\n",
      "Item: 2, Total: 1\n",
      "Item: 3, Total: 9\n",
      "Item: 4, Total: 36\n",
      "Item: 5, Total: 100\n",
      "Item: 6, Total: 225\n",
      "Item: 7, Total: 441\n",
      "Item: 8, Total: 784\n",
      "Item: 9, Total: 1296\n",
      "Item: 10, Total: 2025\n",
      "3025"
     ]
    },
    {
     "data": {
      "text/plain": [
       "cumulative_cube: Int = 3025\n"
      ]
     },
     "execution_count": 43,
     "metadata": {},
     "output_type": "execute_result"
    }
   ],
   "source": [
    "val cumulative_cube =run_func((x:Int)=>x*x*x,1,10)\n",
    "print(cumulative_cube)"
   ]
  },
  {
   "cell_type": "code",
   "execution_count": null,
   "id": "1ef987a7",
   "metadata": {},
   "outputs": [],
   "source": []
  }
 ],
 "metadata": {
  "kernelspec": {
   "display_name": "spylon-kernel",
   "language": "scala",
   "name": "spylon-kernel"
  },
  "language_info": {
   "codemirror_mode": "text/x-scala",
   "file_extension": ".scala",
   "help_links": [
    {
     "text": "MetaKernel Magics",
     "url": "https://metakernel.readthedocs.io/en/latest/source/README.html"
    }
   ],
   "mimetype": "text/x-scala",
   "name": "scala",
   "pygments_lexer": "scala",
   "version": "0.4.1"
  }
 },
 "nbformat": 4,
 "nbformat_minor": 5
}
